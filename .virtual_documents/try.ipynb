import tensorflow as tf 
import numpy as np
import cv2 as cv
import matplotlib.pyplot as plt
import pandas as pd 


def augment(image, label):
  image = tf.cast(image, tf.float32)
  image = tf.image.resize(image, [image.shape[0], image.shape[1]])
  image = (image / 255.0)
  image = tf.image.random_crop(image, size=[image.shape[0], image.shape[1], 3])
  image = tf.image.random_brightness(image, max_delta=0.5)
  return image, label


data = cv.imread("left_click.png")
type(data)


x = augment(data, 0)
type(x[0][0].numpy())


from keras.preprocessing.image import ImageDataGenerator
import numpy as np

def augment_images(image, num_augmented):
    datagen = ImageDataGenerator(
        rotation_range=20,
        width_shift_range=0.2,
        height_shift_range=0.2,
        shear_range=0.2,
        zoom_range=0.2,
        horizontal_flip=True,
        fill_mode='nearest')

    # Normalize pixel values to the range [0, 1]
    image = np.array(image) / 255.0
    image = image.reshape((1,) + image.shape)

    augmented_images = []
    for _ in range(num_augmented):
        augmented_image = datagen.flow(image, batch_size=1).next()[0]
        augmented_images.append(augmented_image)

    return augmented_images


df = pd.DataFrame(columns=["Images","Label"])
df


num_augmented = 500
augmented_images = augment_images(data, num_augmented)
for i in range(num_augmented):
    a = augmented_images[i]
    # plt.imshow(a)
    df.loc[len(df.index)] = [a,0]
    # plt.show()


df


data.shape 


model_arch = ["Conv","max","Conv","max","Conv","max","Flatten","DNN"]
filters_size= 10
kernal = (3,3)
img_shape = data.shape
dense_layer = 10


model = tf.keras.Sequential([])
for i in range(10):
    model.add(tf.keras.layers.Conv2D(filters= 10, kernel_size=(3,3), activation = "relu",input_shape = data.shape ))
    model.add(tf.keras.layers.Conv2D(filters= 10, kernel_size=(3,3), activation = "relu",input_shape = data.shape ))
    
model.summary()


model = tf.keras.Sequential([])
for i in model_arch:
    if i.lower == "conv":
        model.add(tf.keras.layers.Conv2D(filters= filters_size, kernel_size=kernal, activation = "relu",input_shape = img_shape ))
        print(i)
    elif i.lower == "max":
        model.add(tf.keras.layers.MaxPool2D(pool_size=(2,2)))  
        print(i)
    elif i.lower == "flatten":
        model.add(tf.keras.layers.Flatten())
        print(i)
    elif i.lower == "dnn":
        model.add(tf.keras.layers.Dense(dense_layer))
        print(i)
model.summary()



