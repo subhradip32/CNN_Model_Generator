{
 "cells": [
  {
   "cell_type": "code",
   "execution_count": 1,
   "id": "da7c4798-98e7-4b06-be57-b4c737b8336a",
   "metadata": {
    "scrolled": true
   },
   "outputs": [],
   "source": [
    "import tensorflow as tf \n",
    "import numpy as np\n",
    "import cv2 as cv\n",
    "import matplotlib.pyplot as plt\n",
    "import pandas as pd "
   ]
  },
  {
   "cell_type": "code",
   "execution_count": 2,
   "id": "c35f0434-5764-412e-8c2d-c5362c568e8f",
   "metadata": {},
   "outputs": [],
   "source": [
    "def augment(image, label):\n",
    "  image = tf.cast(image, tf.float32)\n",
    "  image = tf.image.resize(image, [image.shape[0], image.shape[1]])\n",
    "  image = (image / 255.0)\n",
    "  image = tf.image.random_crop(image, size=[image.shape[0], image.shape[1], 3])\n",
    "  image = tf.image.random_brightness(image, max_delta=0.5)\n",
    "  return image, label"
   ]
  },
  {
   "cell_type": "code",
   "execution_count": 3,
   "id": "14ee0750-a040-4019-b6cb-653368dffc63",
   "metadata": {},
   "outputs": [
    {
     "data": {
      "text/plain": [
       "numpy.ndarray"
      ]
     },
     "execution_count": 3,
     "metadata": {},
     "output_type": "execute_result"
    }
   ],
   "source": [
    "data = cv.imread(\"left_click.png\")\n",
    "type(data)"
   ]
  },
  {
   "cell_type": "code",
   "execution_count": 4,
   "id": "06809820-cfc9-41ee-a309-c960201896c9",
   "metadata": {},
   "outputs": [
    {
     "data": {
      "text/plain": [
       "numpy.ndarray"
      ]
     },
     "execution_count": 4,
     "metadata": {},
     "output_type": "execute_result"
    }
   ],
   "source": [
    "x = augment(data, 0)\n",
    "type(x[0][0].numpy())"
   ]
  },
  {
   "cell_type": "code",
   "execution_count": 7,
   "id": "2c575597-35b7-471f-84bd-21e4dca922d9",
   "metadata": {},
   "outputs": [
    {
     "ename": "ImportError",
     "evalue": "cannot import name 'ImageDataGenerator' from 'keras.preprocessing.image' (C:\\Users\\USER\\AppData\\Local\\Programs\\Python\\Python311\\Lib\\site-packages\\keras\\api\\preprocessing\\image\\__init__.py)",
     "output_type": "error",
     "traceback": [
      "\u001b[1;31m---------------------------------------------------------------------------\u001b[0m",
      "\u001b[1;31mImportError\u001b[0m                               Traceback (most recent call last)",
      "Cell \u001b[1;32mIn[7], line 1\u001b[0m\n\u001b[1;32m----> 1\u001b[0m \u001b[38;5;28;01mfrom\u001b[39;00m \u001b[38;5;21;01mkeras\u001b[39;00m\u001b[38;5;21;01m.\u001b[39;00m\u001b[38;5;21;01mpreprocessing\u001b[39;00m\u001b[38;5;21;01m.\u001b[39;00m\u001b[38;5;21;01mimage\u001b[39;00m \u001b[38;5;28;01mimport\u001b[39;00m ImageDataGenerator\n\u001b[0;32m      2\u001b[0m \u001b[38;5;28;01mimport\u001b[39;00m \u001b[38;5;21;01mnumpy\u001b[39;00m \u001b[38;5;28;01mas\u001b[39;00m \u001b[38;5;21;01mnp\u001b[39;00m\n\u001b[0;32m      4\u001b[0m \u001b[38;5;28;01mdef\u001b[39;00m \u001b[38;5;21maugment_images\u001b[39m(image, num_augmented):\n",
      "\u001b[1;31mImportError\u001b[0m: cannot import name 'ImageDataGenerator' from 'keras.preprocessing.image' (C:\\Users\\USER\\AppData\\Local\\Programs\\Python\\Python311\\Lib\\site-packages\\keras\\api\\preprocessing\\image\\__init__.py)"
     ]
    }
   ],
   "source": [
    "from keras.preprocessing.image import ImageDataGenerator\n",
    "import numpy as np\n",
    "\n",
    "def augment_images(image, num_augmented):\n",
    "    datagen = ImageDataGenerator(\n",
    "        rotation_range=20,\n",
    "        width_shift_range=0.2,\n",
    "        height_shift_range=0.2,\n",
    "        shear_range=0.2,\n",
    "        zoom_range=0.2,\n",
    "        horizontal_flip=True,\n",
    "        fill_mode='nearest')\n",
    "\n",
    "    # Normalize pixel values to the range [0, 1]\n",
    "    image = np.array(image) / 255.0\n",
    "    image = image.reshape((1,) + image.shape)\n",
    "\n",
    "    augmented_images = []\n",
    "    for _ in range(num_augmented):\n",
    "        augmented_image = datagen.flow(image, batch_size=1).next()[0]\n",
    "        augmented_images.append(augmented_image)\n",
    "\n",
    "    return augmented_images"
   ]
  },
  {
   "cell_type": "code",
   "execution_count": null,
   "id": "68df1e38-d39f-411d-aaea-417825712211",
   "metadata": {},
   "outputs": [],
   "source": [
    "df = pd.DataFrame(columns=[\"Images\",\"Label\"])\n",
    "df"
   ]
  },
  {
   "cell_type": "code",
   "execution_count": null,
   "id": "731f69a7-6f2d-4e9f-8b16-1dc9cde20d49",
   "metadata": {
    "scrolled": true
   },
   "outputs": [],
   "source": [
    "num_augmented = 500\n",
    "augmented_images = augment_images(data, num_augmented)\n",
    "for i in range(num_augmented):\n",
    "    a = augmented_images[i]\n",
    "    # plt.imshow(a)\n",
    "    df.loc[len(df.index)] = [a,0]\n",
    "    # plt.show()"
   ]
  },
  {
   "cell_type": "code",
   "execution_count": 6,
   "id": "49fae040-cab1-4404-9014-3097175aa5a5",
   "metadata": {},
   "outputs": [
    {
     "ename": "NameError",
     "evalue": "name 'df' is not defined",
     "output_type": "error",
     "traceback": [
      "\u001b[1;31m---------------------------------------------------------------------------\u001b[0m",
      "\u001b[1;31mNameError\u001b[0m                                 Traceback (most recent call last)",
      "Cell \u001b[1;32mIn[6], line 1\u001b[0m\n\u001b[1;32m----> 1\u001b[0m \u001b[43mdf\u001b[49m\n",
      "\u001b[1;31mNameError\u001b[0m: name 'df' is not defined"
     ]
    }
   ],
   "source": [
    "df"
   ]
  },
  {
   "cell_type": "code",
   "execution_count": 10,
   "id": "5b0692e1-89c5-4750-ae27-1d98e0c6fc57",
   "metadata": {},
   "outputs": [
    {
     "data": {
      "text/plain": [
       "(572, 646, 3)"
      ]
     },
     "execution_count": 10,
     "metadata": {},
     "output_type": "execute_result"
    }
   ],
   "source": [
    "data.shape "
   ]
  },
  {
   "cell_type": "code",
   "execution_count": 11,
   "id": "8a800732-c01e-4f6c-aec4-913f374061c5",
   "metadata": {},
   "outputs": [],
   "source": [
    "model_arch = [\"Conv\",\"max\",\"Conv\",\"max\",\"Conv\",\"max\",\"Flatten\",\"DNN\"]\n",
    "filters_size= 10\n",
    "kernal = (3,3)\n",
    "img_shape = data.shape\n",
    "dense_layer = 10"
   ]
  },
  {
   "cell_type": "code",
   "execution_count": 12,
   "id": "9260efbe-f830-4633-ad2f-bf4d40f223fb",
   "metadata": {
    "scrolled": true
   },
   "outputs": [
    {
     "name": "stdout",
     "output_type": "stream",
     "text": [
      "Model: \"sequential\"\n",
      "_________________________________________________________________\n",
      " Layer (type)                Output Shape              Param #   \n",
      "=================================================================\n",
      " conv2d (Conv2D)             (None, 570, 644, 10)      280       \n",
      "                                                                 \n",
      " conv2d_1 (Conv2D)           (None, 568, 642, 10)      910       \n",
      "                                                                 \n",
      " conv2d_2 (Conv2D)           (None, 566, 640, 10)      910       \n",
      "                                                                 \n",
      " conv2d_3 (Conv2D)           (None, 564, 638, 10)      910       \n",
      "                                                                 \n",
      " conv2d_4 (Conv2D)           (None, 562, 636, 10)      910       \n",
      "                                                                 \n",
      " conv2d_5 (Conv2D)           (None, 560, 634, 10)      910       \n",
      "                                                                 \n",
      " conv2d_6 (Conv2D)           (None, 558, 632, 10)      910       \n",
      "                                                                 \n",
      " conv2d_7 (Conv2D)           (None, 556, 630, 10)      910       \n",
      "                                                                 \n",
      " conv2d_8 (Conv2D)           (None, 554, 628, 10)      910       \n",
      "                                                                 \n",
      " conv2d_9 (Conv2D)           (None, 552, 626, 10)      910       \n",
      "                                                                 \n",
      " conv2d_10 (Conv2D)          (None, 550, 624, 10)      910       \n",
      "                                                                 \n",
      " conv2d_11 (Conv2D)          (None, 548, 622, 10)      910       \n",
      "                                                                 \n",
      " conv2d_12 (Conv2D)          (None, 546, 620, 10)      910       \n",
      "                                                                 \n",
      " conv2d_13 (Conv2D)          (None, 544, 618, 10)      910       \n",
      "                                                                 \n",
      " conv2d_14 (Conv2D)          (None, 542, 616, 10)      910       \n",
      "                                                                 \n",
      " conv2d_15 (Conv2D)          (None, 540, 614, 10)      910       \n",
      "                                                                 \n",
      " conv2d_16 (Conv2D)          (None, 538, 612, 10)      910       \n",
      "                                                                 \n",
      " conv2d_17 (Conv2D)          (None, 536, 610, 10)      910       \n",
      "                                                                 \n",
      " conv2d_18 (Conv2D)          (None, 534, 608, 10)      910       \n",
      "                                                                 \n",
      " conv2d_19 (Conv2D)          (None, 532, 606, 10)      910       \n",
      "                                                                 \n",
      "=================================================================\n",
      "Total params: 17570 (68.63 KB)\n",
      "Trainable params: 17570 (68.63 KB)\n",
      "Non-trainable params: 0 (0.00 Byte)\n",
      "_________________________________________________________________\n"
     ]
    }
   ],
   "source": [
    "model = tf.keras.Sequential([])\n",
    "for i in range(10):\n",
    "    model.add(tf.keras.layers.Conv2D(filters= 10, kernel_size=(3,3), activation = \"relu\",input_shape = data.shape ))\n",
    "    model.add(tf.keras.layers.Conv2D(filters= 10, kernel_size=(3,3), activation = \"relu\",input_shape = data.shape ))\n",
    "    \n",
    "model.summary()"
   ]
  },
  {
   "cell_type": "code",
   "execution_count": 13,
   "id": "c373e9ee-e442-4060-8e24-cc7b585fdee1",
   "metadata": {},
   "outputs": [
    {
     "ename": "ValueError",
     "evalue": "This model has not yet been built. Build the model first by calling `build()` or by calling the model on a batch of data.",
     "output_type": "error",
     "traceback": [
      "\u001b[0;31m---------------------------------------------------------------------------\u001b[0m",
      "\u001b[0;31mValueError\u001b[0m                                Traceback (most recent call last)",
      "Cell \u001b[0;32mIn[13], line 15\u001b[0m\n\u001b[1;32m     13\u001b[0m         model\u001b[38;5;241m.\u001b[39madd(tf\u001b[38;5;241m.\u001b[39mkeras\u001b[38;5;241m.\u001b[39mlayers\u001b[38;5;241m.\u001b[39mDense(dense_layer))\n\u001b[1;32m     14\u001b[0m         \u001b[38;5;28mprint\u001b[39m(i)\n\u001b[0;32m---> 15\u001b[0m \u001b[43mmodel\u001b[49m\u001b[38;5;241;43m.\u001b[39;49m\u001b[43msummary\u001b[49m\u001b[43m(\u001b[49m\u001b[43m)\u001b[49m\n",
      "File \u001b[0;32m~/.local/lib/python3.10/site-packages/keras/src/engine/training.py:3506\u001b[0m, in \u001b[0;36mModel.summary\u001b[0;34m(self, line_length, positions, print_fn, expand_nested, show_trainable, layer_range)\u001b[0m\n\u001b[1;32m   3475\u001b[0m \u001b[38;5;250m\u001b[39m\u001b[38;5;124;03m\"\"\"Prints a string summary of the network.\u001b[39;00m\n\u001b[1;32m   3476\u001b[0m \n\u001b[1;32m   3477\u001b[0m \u001b[38;5;124;03mArgs:\u001b[39;00m\n\u001b[0;32m   (...)\u001b[0m\n\u001b[1;32m   3503\u001b[0m \u001b[38;5;124;03m    ValueError: if `summary()` is called before the model is built.\u001b[39;00m\n\u001b[1;32m   3504\u001b[0m \u001b[38;5;124;03m\"\"\"\u001b[39;00m\n\u001b[1;32m   3505\u001b[0m \u001b[38;5;28;01mif\u001b[39;00m \u001b[38;5;129;01mnot\u001b[39;00m \u001b[38;5;28mself\u001b[39m\u001b[38;5;241m.\u001b[39mbuilt:\n\u001b[0;32m-> 3506\u001b[0m     \u001b[38;5;28;01mraise\u001b[39;00m \u001b[38;5;167;01mValueError\u001b[39;00m(\n\u001b[1;32m   3507\u001b[0m         \u001b[38;5;124m\"\u001b[39m\u001b[38;5;124mThis model has not yet been built. \u001b[39m\u001b[38;5;124m\"\u001b[39m\n\u001b[1;32m   3508\u001b[0m         \u001b[38;5;124m\"\u001b[39m\u001b[38;5;124mBuild the model first by calling `build()` or by calling \u001b[39m\u001b[38;5;124m\"\u001b[39m\n\u001b[1;32m   3509\u001b[0m         \u001b[38;5;124m\"\u001b[39m\u001b[38;5;124mthe model on a batch of data.\u001b[39m\u001b[38;5;124m\"\u001b[39m\n\u001b[1;32m   3510\u001b[0m     )\n\u001b[1;32m   3511\u001b[0m layer_utils\u001b[38;5;241m.\u001b[39mprint_summary(\n\u001b[1;32m   3512\u001b[0m     \u001b[38;5;28mself\u001b[39m,\n\u001b[1;32m   3513\u001b[0m     line_length\u001b[38;5;241m=\u001b[39mline_length,\n\u001b[0;32m   (...)\u001b[0m\n\u001b[1;32m   3518\u001b[0m     layer_range\u001b[38;5;241m=\u001b[39mlayer_range,\n\u001b[1;32m   3519\u001b[0m )\n",
      "\u001b[0;31mValueError\u001b[0m: This model has not yet been built. Build the model first by calling `build()` or by calling the model on a batch of data."
     ]
    }
   ],
   "source": [
    "model = tf.keras.Sequential([])\n",
    "for i in model_arch:\n",
    "    if i.lower == \"conv\":\n",
    "        model.add(tf.keras.layers.Conv2D(filters= filters_size, kernel_size=kernal, activation = \"relu\",input_shape = img_shape ))\n",
    "        print(i)\n",
    "    elif i.lower == \"max\":\n",
    "        model.add(tf.keras.layers.MaxPool2D(pool_size=(2,2)))  \n",
    "        print(i)\n",
    "    elif i.lower == \"flatten\":\n",
    "        model.add(tf.keras.layers.Flatten())\n",
    "        print(i)\n",
    "    elif i.lower == \"dnn\":\n",
    "        model.add(tf.keras.layers.Dense(dense_layer))\n",
    "        print(i)\n",
    "model.summary()"
   ]
  },
  {
   "cell_type": "code",
   "execution_count": null,
   "id": "628e241a-b5aa-4ba6-ab8e-32fbc00a071b",
   "metadata": {},
   "outputs": [],
   "source": []
  }
 ],
 "metadata": {
  "kernelspec": {
   "display_name": "Python 3 (ipykernel)",
   "language": "python",
   "name": "python3"
  },
  "language_info": {
   "codemirror_mode": {
    "name": "ipython",
    "version": 3
   },
   "file_extension": ".py",
   "mimetype": "text/x-python",
   "name": "python",
   "nbconvert_exporter": "python",
   "pygments_lexer": "ipython3",
   "version": "3.11.3"
  }
 },
 "nbformat": 4,
 "nbformat_minor": 5
}
